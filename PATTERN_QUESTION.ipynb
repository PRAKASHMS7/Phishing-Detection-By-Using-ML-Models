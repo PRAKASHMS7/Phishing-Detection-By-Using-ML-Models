{
  "nbformat": 4,
  "nbformat_minor": 0,
  "metadata": {
    "colab": {
      "provenance": [],
      "authorship_tag": "ABX9TyOJ+jWdLJSVzcOJwvifY5wU",
      "include_colab_link": true
    },
    "kernelspec": {
      "name": "python3",
      "display_name": "Python 3"
    },
    "language_info": {
      "name": "python"
    }
  },
  "cells": [
    {
      "cell_type": "markdown",
      "metadata": {
        "id": "view-in-github",
        "colab_type": "text"
      },
      "source": [
        "<a href=\"https://colab.research.google.com/github/PRAKASHMS7/Phishing-Detection-By-Using-ML-Models/blob/main/PATTERN_QUESTION.ipynb\" target=\"_parent\"><img src=\"https://colab.research.google.com/assets/colab-badge.svg\" alt=\"Open In Colab\"/></a>"
      ]
    },
    {
      "cell_type": "markdown",
      "source": [
        "for i in range(4,0,-1)\n",
        "# start: The first number in the sequence.\n",
        "# stop: The loop stops before reaching this number.\n",
        "# step: The increment (or decrement if negative)"
      ],
      "metadata": {
        "id": "zPLs8CvV7E3r"
      }
    },
    {
      "cell_type": "markdown",
      "source": [
        "SUQARE"
      ],
      "metadata": {
        "id": "FSUwQOCQsD-K"
      }
    },
    {
      "cell_type": "code",
      "execution_count": null,
      "metadata": {
        "colab": {
          "base_uri": "https://localhost:8080/"
        },
        "id": "9lwqDub1rfg-",
        "outputId": "8dfd690b-38c3-40ab-e21e-87c19f8326bf"
      },
      "outputs": [
        {
          "output_type": "stream",
          "name": "stdout",
          "text": [
            "Enter a row Number: 4\n",
            "Enter a column number4\n",
            "* * * * \n",
            "* * * * \n",
            "* * * * \n",
            "* * * * \n"
          ]
        }
      ],
      "source": [
        "row=int(input(\"Enter a row Number: \"))\n",
        "column=int(input(\"Enter a column number\"))\n",
        "for i in range(row):\n",
        "  for j in range(column):\n",
        "    print(\"*\",end=\" \")\n",
        "  print()"
      ]
    },
    {
      "cell_type": "markdown",
      "source": [
        "RECTANGLE"
      ],
      "metadata": {
        "id": "Wr_RwiYfsGk9"
      }
    },
    {
      "cell_type": "code",
      "source": [
        "row=int(input(\"Enter a row number\"))\n",
        "column=int(input(\"Enter a column number\"))\n",
        "for i in range(row):\n",
        "  for j in range(column):\n",
        "    print(\"*\",end=\" \")\n",
        "  print()"
      ],
      "metadata": {
        "colab": {
          "base_uri": "https://localhost:8080/"
        },
        "id": "KX2dUeoGsDio",
        "outputId": "c332746f-3b43-47c7-cade-6f2301a336d3"
      },
      "execution_count": null,
      "outputs": [
        {
          "output_type": "stream",
          "name": "stdout",
          "text": [
            "Enter a row number4\n",
            "Enter a column number5\n",
            "* * * * * \n",
            "* * * * * \n",
            "* * * * * \n",
            "* * * * * \n"
          ]
        }
      ]
    },
    {
      "cell_type": "code",
      "source": [
        "\n",
        "def patterns(row,column):\n",
        "  for i in range(row):\n",
        "    for j in range(column):\n",
        "      print(\"*\",end=\" \")\n",
        "    print()\n",
        "patterns(4,5)\n"
      ],
      "metadata": {
        "colab": {
          "base_uri": "https://localhost:8080/"
        },
        "id": "UOtkjwQ_sp4D",
        "outputId": "788ed357-492d-4947-d35e-bc8153f91db0"
      },
      "execution_count": null,
      "outputs": [
        {
          "output_type": "stream",
          "name": "stdout",
          "text": [
            "* * * * * \n",
            "* * * * * \n",
            "* * * * * \n",
            "* * * * * \n"
          ]
        }
      ]
    },
    {
      "cell_type": "markdown",
      "source": [
        "TRAINGLE or PYRAMID"
      ],
      "metadata": {
        "id": "LT57zd1Z2WfC"
      }
    },
    {
      "cell_type": "code",
      "source": [
        "rows = int(input(\"Enter the number of rows: \"))\n",
        "\n",
        "for i in range(1, rows + 1):\n",
        "    print(\" \" * (rows - i) + \"* \" * i)\n"
      ],
      "metadata": {
        "colab": {
          "base_uri": "https://localhost:8080/"
        },
        "id": "1l6H0qor4N32",
        "outputId": "03e8eeeb-8d07-40c7-f348-68d6aa8eadfc"
      },
      "execution_count": null,
      "outputs": [
        {
          "output_type": "stream",
          "name": "stdout",
          "text": [
            "Enter the number of rows: 6\n",
            "     * \n",
            "    * * \n",
            "   * * * \n",
            "  * * * * \n",
            " * * * * * \n",
            "* * * * * * \n"
          ]
        }
      ]
    },
    {
      "cell_type": "code",
      "source": [
        "row=int(input(\"Enter a number: \"))\n",
        "for i in range(row,0,-1):\n",
        "  print(\" \"*(row-i)+\"* \"*i)"
      ],
      "metadata": {
        "colab": {
          "base_uri": "https://localhost:8080/"
        },
        "id": "AxhTxjVF9Tmv",
        "outputId": "a87ece2e-d06e-4b8b-9c47-d4a688424859"
      },
      "execution_count": null,
      "outputs": [
        {
          "output_type": "stream",
          "name": "stdout",
          "text": [
            "Enter a number: 6\n",
            "* * * * * * \n",
            " * * * * * \n",
            "  * * * * \n",
            "   * * * \n",
            "    * * \n",
            "     * \n"
          ]
        }
      ]
    },
    {
      "cell_type": "code",
      "source": [
        "row=int(input(\"Enter a number\"))\n",
        "for i in range(1,row+1):\n",
        "  print(\"*  \" *i)"
      ],
      "metadata": {
        "colab": {
          "base_uri": "https://localhost:8080/"
        },
        "id": "w-ls1LH321Sr",
        "outputId": "c57e4dc6-86a7-40f7-96f0-ad014bcc38f4"
      },
      "execution_count": null,
      "outputs": [
        {
          "output_type": "stream",
          "name": "stdout",
          "text": [
            "Enter a number6\n",
            "* \n",
            "* * \n",
            "* * * \n",
            "* * * * \n",
            "* * * * * \n",
            "* * * * * * \n"
          ]
        }
      ]
    },
    {
      "cell_type": "code",
      "source": [
        "row=int(input(\"Enter the number: \"))\n",
        "for i in range(1,row+1):\n",
        "  print(\" \" * (row-i)+\"*\"*i)"
      ],
      "metadata": {
        "colab": {
          "base_uri": "https://localhost:8080/"
        },
        "id": "WS-h4Tel5V3G",
        "outputId": "6fc06fc3-92de-4b1f-af3f-69630edd1435"
      },
      "execution_count": null,
      "outputs": [
        {
          "output_type": "stream",
          "name": "stdout",
          "text": [
            "Enter the number: 6\n",
            "     *\n",
            "    **\n",
            "   ***\n",
            "  ****\n",
            " *****\n",
            "******\n"
          ]
        }
      ]
    },
    {
      "cell_type": "code",
      "source": [
        "row=int(input(\"Enter a number: \"))\n",
        "for i in range(row,0,-1):\n",
        "  print(\"*\"*i + \" \"*(row-i))"
      ],
      "metadata": {
        "colab": {
          "base_uri": "https://localhost:8080/"
        },
        "id": "wjlWzVk_9ddz",
        "outputId": "ef13067f-4a97-4757-cf1c-b7c2d083f05b"
      },
      "execution_count": null,
      "outputs": [
        {
          "output_type": "stream",
          "name": "stdout",
          "text": [
            "Enter a number: 5\n",
            "*****\n",
            "**** \n",
            "***  \n",
            "**   \n",
            "*    \n"
          ]
        }
      ]
    },
    {
      "cell_type": "code",
      "source": [
        "row=int(input(\"Enter a number: \"))\n",
        "for i in range(row,0,-1):\n",
        "  print(\" \"*(row-i)+\"*\"*i)"
      ],
      "metadata": {
        "colab": {
          "base_uri": "https://localhost:8080/"
        },
        "id": "RqavwW-J8m63",
        "outputId": "e7240a1b-f0fd-46f5-bb8a-9ab0d9722119"
      },
      "execution_count": null,
      "outputs": [
        {
          "output_type": "stream",
          "name": "stdout",
          "text": [
            "Enter a number: 5\n",
            "*****\n",
            " ****\n",
            "  ***\n",
            "   **\n",
            "    *\n"
          ]
        }
      ]
    },
    {
      "cell_type": "code",
      "source": [
        "rows = int(input(\"Enter the number of rows: \"))\n",
        "\n",
        "# Loop to print the pattern\n",
        "for i in range(rows, 0, -2):  # Decreasing by 2 to match the pattern\n",
        "    spaces = (rows - i) // 2  # Spaces increase as i decreases\n",
        "    print(\" \" * spaces *2 + \"* \" * i)\n"
      ],
      "metadata": {
        "colab": {
          "base_uri": "https://localhost:8080/"
        },
        "id": "h5egCBWc_9a3",
        "outputId": "88ff8f91-1ada-4fe6-8460-7dc01e759c10"
      },
      "execution_count": null,
      "outputs": [
        {
          "output_type": "stream",
          "name": "stdout",
          "text": [
            "Enter the number of rows: 6\n",
            "* * * * * * \n",
            "  * * * * \n",
            "    * * \n"
          ]
        }
      ]
    },
    {
      "cell_type": "code",
      "source": [
        "rows = int(input(\"Enter a number\"))\n",
        "\n",
        "# Upper pyramid\n",
        "for i in range(1, rows + 1):\n",
        "    print(\" \" * (rows - i) + \"*\" * (2 * i - 1))\n",
        "\n",
        "# Lower inverted pyramid\n",
        "for i in range(rows - 1, 0, -1):\n",
        "    print(\" \" * (rows - i) + \"*\" * (2 * i - 1))\n"
      ],
      "metadata": {
        "colab": {
          "base_uri": "https://localhost:8080/"
        },
        "id": "NdBIVmQF9Sxc",
        "outputId": "3a008938-1130-4fc1-d5c7-1e1484730114"
      },
      "execution_count": null,
      "outputs": [
        {
          "output_type": "stream",
          "name": "stdout",
          "text": [
            "Enter a number5\n",
            "    *\n",
            "   ***\n",
            "  *****\n",
            " *******\n",
            "*********\n",
            " *******\n",
            "  *****\n",
            "   ***\n",
            "    *\n"
          ]
        }
      ]
    }
  ]
}