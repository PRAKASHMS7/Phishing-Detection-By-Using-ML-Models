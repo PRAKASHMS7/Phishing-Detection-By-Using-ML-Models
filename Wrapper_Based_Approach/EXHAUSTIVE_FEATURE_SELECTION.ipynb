{
  "cells": [
    {
      "cell_type": "markdown",
      "metadata": {
        "id": "view-in-github",
        "colab_type": "text"
      },
      "source": [
        "<a href=\"https://colab.research.google.com/github/PRAKASHMS7/Phishing-Detection-By-Using-ML-Models/blob/main/Wrapper_Based_Approach/EXHAUSTIVE_FEATURE_SELECTION.ipynb\" target=\"_parent\"><img src=\"https://colab.research.google.com/assets/colab-badge.svg\" alt=\"Open In Colab\"/></a>"
      ]
    },
    {
      "cell_type": "code",
      "source": [
        "# Required Libraries\n",
        "import pandas as pd\n",
        "import numpy as np\n",
        "from sklearn.model_selection import train_test_split\n",
        "from sklearn.linear_model import LogisticRegression\n",
        "from sklearn.feature_selection import SelectKBest, f_classif\n",
        "from sklearn.preprocessing import LabelEncoder, StandardScaler\n",
        "from sklearn.metrics import accuracy_score, precision_score, f1_score, roc_curve, roc_auc_score\n",
        "import matplotlib.pyplot as plt\n",
        "\n",
        "# Load the data\n",
        "data = pd.read_csv('/content/All.csv')  # Replace with your actual file path\n",
        "\n",
        "# Handle missing values (filling missing values with median)\n",
        "data_cleaned = data.fillna(data.median(numeric_only=True))\n",
        "\n",
        "# Encode the target variable (assuming target variable is 'URL_Type_obf_Type')\n",
        "le = LabelEncoder()\n",
        "data_cleaned['URL_Type_obf_Type'] = le.fit_transform(data_cleaned['URL_Type_obf_Type'])\n",
        "\n",
        "# Separate features and target variable\n",
        "X = data_cleaned.drop(columns=['URL_Type_obf_Type'])\n",
        "y = data_cleaned['URL_Type_obf_Type']\n",
        "\n",
        "# Replace infinite values with NaN\n",
        "X.replace([np.inf, -np.inf], np.nan, inplace=True)\n",
        "\n",
        "# Handle NaN values by filling with the median for numerical columns\n",
        "X.fillna(X.median(numeric_only=True), inplace=True)\n",
        "\n",
        "# Check for any remaining NaN or infinite values\n",
        "if X.isnull().values.any():\n",
        "    raise ValueError(\"There are still NaN values in the dataset.\")\n",
        "if np.isinf(X.values).any():\n",
        "    raise ValueError(\"There are infinite values in the dataset.\")\n",
        "\n",
        "# Scaling the features to avoid issues with very large values\n",
        "scaler = StandardScaler()\n",
        "X_scaled = scaler.fit_transform(X)\n",
        "\n",
        "# Split data into training and testing sets\n",
        "X_train, X_test, y_train, y_test = train_test_split(X_scaled, y, test_size=0.2, random_state=42)\n",
        "\n",
        "# Initialize Logistic Regression model\n",
        "model = LogisticRegression(max_iter=1000, solver='liblinear')\n",
        "\n",
        "# Use SelectKBest for feature selection to select top 40 features\n",
        "selector = SelectKBest(score_func=f_classif, k=40)  # Select top 40 features\n",
        "X_train_selected = selector.fit_transform(X_train, y_train)\n",
        "X_test_selected = selector.transform(X_test)\n",
        "\n",
        "# Get the boolean mask of selected features\n",
        "selected_feature_mask = selector.get_support()\n",
        "\n",
        "# Get the names of the selected features\n",
        "selected_features = X.columns[selected_feature_mask]\n",
        "\n",
        "# Print the names of the selected features\n",
        "print(\"Selected features:\")\n",
        "print(selected_features.tolist())\n",
        "\n",
        "# Fit the model using the selected features\n",
        "model.fit(X_train_selected, y_train)\n",
        "\n",
        "# Make predictions using the test set with selected features\n",
        "predictions = model.predict(X_test_selected)\n",
        "\n",
        "# Calculate accuracy, precision, F1 score\n",
        "accuracy = accuracy_score(y_test, predictions)\n",
        "precision = precision_score(y_test, predictions, average='weighted')  # Use weighted for multiclass\n",
        "f1 = f1_score(y_test, predictions, average='weighted')  # Use weighted for multiclass\n",
        "\n",
        "# Calculate ROC AUC score for multiclass\n",
        "# Predict probabilities\n",
        "y_proba = model.predict_proba(X_test_selected)\n",
        "roc_auc = roc_auc_score(y_test, y_proba, multi_class='ovr')  # Use One-vs-Rest\n",
        "\n",
        "# Print the calculated metrics\n",
        "print(f\"Accuracy: {accuracy:.4f}\")\n",
        "print(f\"Precision: {precision:.4f}\")\n",
        "print(f\"F1 Score: {f1:.4f}\")\n",
        "print(f\"ROC AUC: {roc_auc:.4f}\")\n",
        "\n"
      ],
      "metadata": {
        "colab": {
          "base_uri": "https://localhost:8080/"
        },
        "id": "wNKeN_BeIY93",
        "outputId": "4a539711-6716-4234-aadc-aad8d6e3e434"
      },
      "execution_count": null,
      "outputs": [
        {
          "output_type": "stream",
          "name": "stderr",
          "text": [
            "/usr/local/lib/python3.11/dist-packages/sklearn/feature_selection/_univariate_selection.py:111: UserWarning: Features [35] are constant.\n",
            "  warnings.warn(\"Features %s are constant.\" % constant_features_idx, UserWarning)\n",
            "/usr/local/lib/python3.11/dist-packages/sklearn/feature_selection/_univariate_selection.py:112: RuntimeWarning: invalid value encountered in divide\n",
            "  f = msb / msw\n"
          ]
        },
        {
          "output_type": "stream",
          "name": "stdout",
          "text": [
            "Selected features:\n",
            "['domain_token_count', 'path_token_count', 'avgdomaintokenlen', 'longdomaintokenlen', 'tld', 'charcompace', 'ldl_path', 'dld_url', 'dld_path', 'dld_getArg', 'domainlength', 'ArgLen', 'pathurlRatio', 'ArgUrlRatio', 'argDomanRatio', 'domainUrlRatio', 'argPathRatio', 'NumberofDotsinURL', 'CharacterContinuityRate', 'URL_DigitCount', 'Extension_DigitCount', 'Query_DigitCount', 'host_letter_count', 'Arguments_LongestWordLength', 'URLQueries_variable', 'spcharUrl', 'delimeter_path', 'delimeter_Count', 'NumberRate_Domain', 'NumberRate_Extension', 'NumberRate_AfterPath', 'SymbolCount_URL', 'SymbolCount_Domain', 'SymbolCount_Directoryname', 'SymbolCount_FileName', 'SymbolCount_Extension', 'SymbolCount_Afterpath', 'Entropy_Domain', 'Entropy_Extension', 'Entropy_Afterpath']\n",
            "Accuracy: 0.7892\n",
            "Precision: 0.7906\n",
            "F1 Score: 0.7869\n",
            "ROC AUC: 0.9504\n"
          ]
        }
      ]
    }
  ],
  "metadata": {
    "colab": {
      "provenance": [],
      "mount_file_id": "1DaWZ6ShNuaOWllB5BrK1e6YMKB8_XLrw",
      "authorship_tag": "ABX9TyP9wErJV+hiJHhnD9kjxVqx",
      "include_colab_link": true
    },
    "kernelspec": {
      "display_name": "Python 3",
      "name": "python3"
    },
    "language_info": {
      "name": "python"
    }
  },
  "nbformat": 4,
  "nbformat_minor": 0
}